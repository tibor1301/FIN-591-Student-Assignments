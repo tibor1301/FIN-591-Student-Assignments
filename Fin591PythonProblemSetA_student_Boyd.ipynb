{
 "cells": [
  {
   "cell_type": "markdown",
   "metadata": {},
   "source": [
    "# Fin 591 : Python Exercises\n",
    "\n",
    "This is an exercise to improve your understanding of Python Basics. The questions tend to have a financial theme to them\n"
   ]
  },
  {
   "cell_type": "markdown",
   "metadata": {},
   "source": [
    "# Problem 1 : Basic Python\n",
    "\n",
    "\n",
    "### Task #1\n",
    "\n",
    "Given price = 300 , use python to figure out the square root of the price using two different methods: directly and by importing the math package."
   ]
  },
  {
   "cell_type": "code",
   "execution_count": null,
   "metadata": {},
   "outputs": [],
   "source": [
    "price = 300"
   ]
  },
  {
   "cell_type": "code",
   "execution_count": 45,
   "metadata": {
    "deletable": false,
    "nbgrader": {
     "checksum": "c48a7e78b7e149c4cfb5695f34d62f6b",
     "grade": false,
     "grade_id": "Direct_sqrt",
     "locked": false,
     "schema_version": 1,
     "solution": true
    }
   },
   "outputs": [
    {
     "data": {
      "text/plain": [
       "17.320508075688775"
      ]
     },
     "execution_count": 45,
     "metadata": {},
     "output_type": "execute_result"
    }
   ],
   "source": [
    "def compute_sqrt(price): \n",
    "    \n",
    "    \"\"\"Use direct method to write a function for computing the sqrt of a price\"\"\"\n",
    "    \n",
    "    # YOUR CODE HERE\n",
    "    return price**0.5\n",
    "#   raise NotImplementedError()\n",
    "    \n",
    "compute_sqrt(300)"
   ]
  },
  {
   "cell_type": "code",
   "execution_count": 47,
   "metadata": {
    "deletable": false,
    "nbgrader": {
     "checksum": "3ea9953beb890023088272d144cbd3bd",
     "grade": false,
     "grade_id": "Math_sqrt",
     "locked": false,
     "schema_version": 1,
     "solution": true
    }
   },
   "outputs": [
    {
     "data": {
      "text/plain": [
       "17"
      ]
     },
     "execution_count": 47,
     "metadata": {},
     "output_type": "execute_result"
    }
   ],
   "source": [
    "import math\n",
    "\n",
    "def compute_sqrt_func(price):\n",
    "\n",
    "        \"\"\" Use math package to compute the sqrt of a price\"\"\"\n",
    "        return math.isqrt(price)\n",
    "        # YOUR CODE HERE\n",
    "#       raise NotImplementedError()\n",
    "\n",
    "compute_sqrt_func(300)"
   ]
  },
  {
   "cell_type": "markdown",
   "metadata": {},
   "source": [
    "### Task #2\n",
    "\n",
    "Given the string:\n",
    "\n",
    "    stock_index = \"SP500\"\n",
    "   \n",
    "Grab '500' from the string using indexing."
   ]
  },
  {
   "cell_type": "code",
   "execution_count": 8,
   "metadata": {},
   "outputs": [],
   "source": [
    "stock_index = \"SP500\""
   ]
  },
  {
   "cell_type": "code",
   "execution_count": 15,
   "metadata": {
    "deletable": false,
    "nbgrader": {
     "checksum": "f121e30f5c7a46af2f572151076cd404",
     "grade": false,
     "grade_id": "Splice_and_grab",
     "locked": false,
     "schema_version": 1,
     "solution": true
    }
   },
   "outputs": [
    {
     "name": "stdout",
     "output_type": "stream",
     "text": [
      "5 0 0\n"
     ]
    }
   ],
   "source": [
    "\"\"\"Grab '500' from the string using indexing\"\"\"\n",
    "\n",
    "# YOUR CODE HERE\n",
    "print(stock_index[-3],stock_index[-2],stock_index[-2])\n",
    "#raise NotImplementedError()"
   ]
  },
  {
   "cell_type": "markdown",
   "metadata": {},
   "source": [
    "### Task #3\n",
    "\n",
    "** Given the variables:**\n",
    "\n",
    "    stock_index = \"SP500\"\n",
    "    price = 300\n",
    "\n",
    "** Use .format() to print the following string: **\n",
    "\n",
    "    The SP500 is at 300 today."
   ]
  },
  {
   "cell_type": "code",
   "execution_count": 16,
   "metadata": {},
   "outputs": [],
   "source": [
    "stock_index = \"SP500\"\n",
    "price = 300"
   ]
  },
  {
   "cell_type": "code",
   "execution_count": 18,
   "metadata": {
    "deletable": false,
    "nbgrader": {
     "checksum": "2ad2367b4b4ff35d80c7c81fca60708e",
     "grade": false,
     "grade_id": "Format_string",
     "locked": false,
     "schema_version": 1,
     "solution": true
    }
   },
   "outputs": [
    {
     "name": "stdout",
     "output_type": "stream",
     "text": [
      "The SP500 is at 300 today.\n"
     ]
    }
   ],
   "source": [
    "\"\"\"Print the string after formatting it\"\"\"\n",
    "\n",
    "# YOUR CODE HERE\n",
    "txt = \"The {stock} is at {value} today.\"\n",
    "print(txt.format(stock=stock_index, value=price))\n",
    "#raise NotImplementedError()"
   ]
  },
  {
   "cell_type": "markdown",
   "metadata": {},
   "source": [
    "### Task #4\n",
    "\n",
    "** Given the variable of a nested dictionary with nested lists: **\n",
    "\n",
    "    stock_info = {'sp500':{'today':300,'yesterday': 250}, 'info':['Time',[24,7,365]]}\n",
    "    \n",
    "** Use indexing and key calls to grab the following items:**\n",
    "\n",
    "* Yesterday's SP500 price (250)\n",
    "* The number 365 nested inside a list nested inside the 'info' key."
   ]
  },
  {
   "cell_type": "code",
   "execution_count": 19,
   "metadata": {},
   "outputs": [],
   "source": [
    "stock_info = {'sp500':{'today':300,'yesterday': 250}, 'info':['Time',[24,7,365]]}"
   ]
  },
  {
   "cell_type": "code",
   "execution_count": 23,
   "metadata": {
    "deletable": false,
    "nbgrader": {
     "checksum": "1b044e762219712285dc5652e8153284",
     "grade": false,
     "grade_id": "Grab_stock_num",
     "locked": false,
     "schema_version": 1,
     "solution": true
    }
   },
   "outputs": [
    {
     "name": "stdout",
     "output_type": "stream",
     "text": [
      "250\n"
     ]
    }
   ],
   "source": [
    "\"\"\"Grab yesterday's stock information from the string using indexing\"\"\"\n",
    "\n",
    "# YOUR CODE HERE\n",
    "print(stock_info['sp500']['yesterday'])\n",
    "#raise NotImplementedError()"
   ]
  },
  {
   "cell_type": "code",
   "execution_count": 26,
   "metadata": {
    "deletable": false,
    "nbgrader": {
     "checksum": "292f69815df879d8272b321ccb64c813",
     "grade": false,
     "grade_id": "Grab_year",
     "locked": false,
     "schema_version": 1,
     "solution": true
    }
   },
   "outputs": [
    {
     "name": "stdout",
     "output_type": "stream",
     "text": [
      "365\n"
     ]
    }
   ],
   "source": [
    "\"\"\"Grab the number 365 nested inside a list nested inisde the 'info' key\"\"\"\n",
    "\n",
    "# YOUR CODE HERE\n",
    "print(stock_info['info'][1][2])\n",
    "#raise NotImplementedError()"
   ]
  },
  {
   "cell_type": "markdown",
   "metadata": {},
   "source": [
    "### Task #5\n",
    "\n",
    "** Given strings with this form where the last source value is always separated by two dashes -- **\n",
    "\n",
    "    \"PRICE:345.324:SOURCE--QUANDL\"\n",
    "    \n",
    "**Create a function called source_finder() that returns the source. For example, the above string passed into the function would return \"QUANDL\"**"
   ]
  },
  {
   "cell_type": "code",
   "execution_count": 28,
   "metadata": {
    "deletable": false,
    "nbgrader": {
     "checksum": "773c127880cd0cf728c84a1d7d6b2dbc",
     "grade": false,
     "grade_id": "Return_source",
     "locked": false,
     "schema_version": 1,
     "solution": true
    }
   },
   "outputs": [
    {
     "name": "stdout",
     "output_type": "stream",
     "text": [
      "QUANDL\n"
     ]
    }
   ],
   "source": [
    "def source_finder(s):\n",
    "    \n",
    "    \"\"\"Create a function called source_finder() that returns the source\"\"\"\n",
    "    \n",
    "    # YOUR CODE HERE\n",
    "    print(s.split(\"--\",1)[1])\n",
    "    return\n",
    "    # raise NotImplementedError()\n",
    "    \n",
    "source_finder(\"PRICE:345.324:SOURCE--QUANDL\")"
   ]
  },
  {
   "cell_type": "markdown",
   "metadata": {},
   "source": [
    "### Task #5b\n",
    "\n",
    "** Create a function called price_finder that returns True if the word 'price' is in a string. Your function should work even if 'Price' is capitalized or next to punctuation ('price!')  **"
   ]
  },
  {
   "cell_type": "code",
   "execution_count": 33,
   "metadata": {
    "deletable": false,
    "nbgrader": {
     "checksum": "cfd385e3f3e80a81b7b969f5e6fd4161",
     "grade": false,
     "grade_id": "Price_finder",
     "locked": false,
     "schema_version": 1,
     "solution": true
    }
   },
   "outputs": [],
   "source": [
    "def price_finder(s):\n",
    "    \n",
    "    \"\"\"Create a function that returns True if the work 'price' is in a string\"\"\"\n",
    "    \n",
    "    # YOUR CODE HERE\n",
    "    return 'price' in s.lower()\n",
    "#   raise NotImplementedError()"
   ]
  },
  {
   "cell_type": "code",
   "execution_count": 34,
   "metadata": {},
   "outputs": [
    {
     "data": {
      "text/plain": [
       "True"
      ]
     },
     "execution_count": 34,
     "metadata": {},
     "output_type": "execute_result"
    }
   ],
   "source": [
    "price_finder(\"What is the price?\")"
   ]
  },
  {
   "cell_type": "code",
   "execution_count": 35,
   "metadata": {},
   "outputs": [
    {
     "data": {
      "text/plain": [
       "True"
      ]
     },
     "execution_count": 35,
     "metadata": {},
     "output_type": "execute_result"
    }
   ],
   "source": [
    "price_finder(\"DUDE, WHAT IS PRICE!!!\")"
   ]
  },
  {
   "cell_type": "code",
   "execution_count": 36,
   "metadata": {},
   "outputs": [
    {
     "data": {
      "text/plain": [
       "True"
      ]
     },
     "execution_count": 36,
     "metadata": {},
     "output_type": "execute_result"
    }
   ],
   "source": [
    "price_finder(\"The price is 300\")"
   ]
  },
  {
   "cell_type": "markdown",
   "metadata": {},
   "source": [
    "### Task #6\n",
    "\n",
    "** Create a function called count_price() that counts the number of times the word \"price\" occurs in a string. Account for capitalization and if the word price is next to punctuation. You can write one of two functions. Fill in one of the two boxes below **"
   ]
  },
  {
   "cell_type": "code",
   "execution_count": 43,
   "metadata": {
    "deletable": false,
    "nbgrader": {
     "checksum": "639eb2f39403abf118779fd3043017c6",
     "grade": false,
     "grade_id": "Count_price_occurence",
     "locked": false,
     "schema_version": 1,
     "solution": true
    }
   },
   "outputs": [],
   "source": [
    "def count_price(s):\n",
    "    \n",
    "    \"\"\"This approach does not use built in function\"\"\"\n",
    "    count=0\n",
    "    start=0\n",
    "    while start<len(s):\n",
    "        pos = s.lower().find('price',start)\n",
    "        if pos!=-1:\n",
    "            start=pos+1\n",
    "            count+=1\n",
    "        else:\n",
    "            break\n",
    "    return count\n",
    "    # YOUR CODE HERE\n",
    "#   raise NotImplementedError()"
   ]
  },
  {
   "cell_type": "code",
   "execution_count": 38,
   "metadata": {
    "deletable": false,
    "nbgrader": {
     "checksum": "09f5022c366ac2e95d1607877932843a",
     "grade": false,
     "grade_id": "Count_price_occurence2",
     "locked": false,
     "schema_version": 1,
     "solution": true
    }
   },
   "outputs": [],
   "source": [
    "def count_price(s):\n",
    "    \n",
    "    \"\"\"This approach uses a built in function\"\"\"\n",
    "    \n",
    "    # YOUR CODE HERE\n",
    "#   raise NotImplementedError()"
   ]
  },
  {
   "cell_type": "code",
   "execution_count": 44,
   "metadata": {},
   "outputs": [
    {
     "data": {
      "text/plain": [
       "3"
      ]
     },
     "execution_count": 44,
     "metadata": {},
     "output_type": "execute_result"
    }
   ],
   "source": [
    "s = 'Wow that is a nice price, very nice Price! I said price 3 times.'\n",
    "count_price(s)"
   ]
  },
  {
   "cell_type": "markdown",
   "metadata": {},
   "source": [
    "### Task #7\n",
    "\n",
    "**Create a function called avg_price that takes in a list of stock price numbers and calculates the average (Sum of the numbers divided by the number of elements in the list). It should return a float. **"
   ]
  },
  {
   "cell_type": "code",
   "execution_count": 49,
   "metadata": {
    "deletable": false,
    "nbgrader": {
     "checksum": "6de125ce0179bff0747561bf3da9e458",
     "grade": false,
     "grade_id": "Calc_avg_stock_price",
     "locked": false,
     "schema_version": 1,
     "solution": true
    }
   },
   "outputs": [
    {
     "data": {
      "text/plain": [
       "4.0"
      ]
     },
     "execution_count": 49,
     "metadata": {},
     "output_type": "execute_result"
    }
   ],
   "source": [
    "def avg_price(stocks):\n",
    "    \n",
    "    \"\"\"Take list of stock price numbers and calc average\"\"\"\n",
    "    \n",
    "    # YOUR CODE HERE\n",
    "    return sum(stocks)/len(stocks)\n",
    "#   raise NotImplementedError()\n",
    "\n",
    "avg_price([3,4,5])"
   ]
  },
  {
   "cell_type": "markdown",
   "metadata": {},
   "source": [
    "# Problem 2: NumPy\n",
    "\n",
    "Now that we've learned about NumPy let's test your knowledge. We'll start off with a few simple tasks and then you'll be asked some more complicated questions."
   ]
  },
  {
   "cell_type": "code",
   "execution_count": 50,
   "metadata": {},
   "outputs": [],
   "source": [
    "import numpy as np"
   ]
  },
  {
   "cell_type": "code",
   "execution_count": 52,
   "metadata": {
    "deletable": false,
    "nbgrader": {
     "checksum": "a12ed69ecbcae3c6fc43794d4f663d20",
     "grade": false,
     "grade_id": "Create_zero_array",
     "locked": false,
     "schema_version": 1,
     "solution": true
    }
   },
   "outputs": [
    {
     "data": {
      "text/plain": [
       "array([0., 0., 0., 0., 0., 0., 0., 0., 0., 0.])"
      ]
     },
     "execution_count": 52,
     "metadata": {},
     "output_type": "execute_result"
    }
   ],
   "source": [
    "\"\"\"Create an array of 10 zeros\"\"\" \n",
    "\n",
    "# YOUR CODE HERE\n",
    "np.zeros(10)\n",
    "#raise NotImplementedError()"
   ]
  },
  {
   "cell_type": "code",
   "execution_count": 53,
   "metadata": {
    "deletable": false,
    "nbgrader": {
     "checksum": "9698f49cc073269f130048807bfed1e2",
     "grade": false,
     "grade_id": "Create_one_array",
     "locked": false,
     "schema_version": 1,
     "solution": true
    }
   },
   "outputs": [
    {
     "data": {
      "text/plain": [
       "array([1., 1., 1., 1., 1., 1., 1., 1., 1., 1.])"
      ]
     },
     "execution_count": 53,
     "metadata": {},
     "output_type": "execute_result"
    }
   ],
   "source": [
    "\"\"\"Create an array of 10 ones\"\"\"\n",
    "\n",
    "# YOUR CODE HERE\n",
    "np.ones(10)\n",
    "#raise NotImplementedError()"
   ]
  },
  {
   "cell_type": "code",
   "execution_count": 57,
   "metadata": {
    "deletable": false,
    "nbgrader": {
     "checksum": "2ed26a8ae6402927f6c166056952795f",
     "grade": false,
     "grade_id": "Create_five_array",
     "locked": false,
     "schema_version": 1,
     "solution": true
    }
   },
   "outputs": [
    {
     "data": {
      "text/plain": [
       "array([5, 5, 5, 5, 5, 5, 5, 5, 5, 5])"
      ]
     },
     "execution_count": 57,
     "metadata": {},
     "output_type": "execute_result"
    }
   ],
   "source": [
    "\"\"\"Create an array of 10 fives\"\"\"\n",
    "\n",
    "# YOUR CODE HERE\n",
    "np.array([5]*10)\n",
    "# raise NotImplementedError()"
   ]
  },
  {
   "cell_type": "code",
   "execution_count": 58,
   "metadata": {
    "deletable": false,
    "nbgrader": {
     "checksum": "7f38adae840b3318efd1d37dcd96eb27",
     "grade": false,
     "grade_id": "Create_array",
     "locked": false,
     "schema_version": 1,
     "solution": true
    }
   },
   "outputs": [
    {
     "data": {
      "text/plain": [
       "array([10, 11, 12, 13, 14, 15, 16, 17, 18, 19, 20, 21, 22, 23, 24, 25, 26,\n",
       "       27, 28, 29, 30, 31, 32, 33, 34, 35, 36, 37, 38, 39, 40, 41, 42, 43,\n",
       "       44, 45, 46, 47, 48, 49, 50])"
      ]
     },
     "execution_count": 58,
     "metadata": {},
     "output_type": "execute_result"
    }
   ],
   "source": [
    "\"\"\"Create an array of the integers from 10 to 50\"\"\"\n",
    "\n",
    "# YOUR CODE HERE\n",
    "np.arange(10,51,1)\n",
    "# raise NotImplementedError()"
   ]
  },
  {
   "cell_type": "code",
   "execution_count": 59,
   "metadata": {
    "deletable": false,
    "nbgrader": {
     "checksum": "a8678c08ffa63962b0646e4dfcf234ec",
     "grade": false,
     "grade_id": "Create_even_array",
     "locked": false,
     "schema_version": 1,
     "solution": true
    }
   },
   "outputs": [
    {
     "data": {
      "text/plain": [
       "array([10, 12, 14, 16, 18, 20, 22, 24, 26, 28, 30, 32, 34, 36, 38, 40, 42,\n",
       "       44, 46, 48, 50])"
      ]
     },
     "execution_count": 59,
     "metadata": {},
     "output_type": "execute_result"
    }
   ],
   "source": [
    "\"\"\"Create an array of all the even integers from 10 to 50\"\"\"\n",
    "\n",
    "# YOUR CODE HERE\n",
    "np.arange(10,51,2)\n",
    "# raise NotImplementedError()"
   ]
  },
  {
   "cell_type": "code",
   "execution_count": 62,
   "metadata": {
    "deletable": false,
    "nbgrader": {
     "checksum": "0f8a88ca041212316675e76793618b1c",
     "grade": false,
     "grade_id": "Create_matrix",
     "locked": false,
     "schema_version": 1,
     "solution": true
    }
   },
   "outputs": [
    {
     "data": {
      "text/plain": [
       "array([[0, 1, 2],\n",
       "       [3, 4, 5],\n",
       "       [6, 7, 8]])"
      ]
     },
     "execution_count": 62,
     "metadata": {},
     "output_type": "execute_result"
    }
   ],
   "source": [
    "\"\"\"Create a 3x3 matrix with values ranging from 0 to 8\"\"\"\n",
    "\n",
    "# YOUR CODE HERE\n",
    "np.array([[0,1,2],[3,4,5],[6,7,8]])\n",
    "# # raise NotImplementedError()"
   ]
  },
  {
   "cell_type": "code",
   "execution_count": 60,
   "metadata": {
    "deletable": false,
    "nbgrader": {
     "checksum": "98a26dfe5a55c431b187853a491260ec",
     "grade": false,
     "grade_id": "Create_identity_matrix",
     "locked": false,
     "schema_version": 1,
     "solution": true
    }
   },
   "outputs": [
    {
     "data": {
      "text/plain": [
       "array([[1., 0., 0.],\n",
       "       [0., 1., 0.],\n",
       "       [0., 0., 1.]])"
      ]
     },
     "execution_count": 60,
     "metadata": {},
     "output_type": "execute_result"
    }
   ],
   "source": [
    "\"\"\"Create a 3x3 identity matrix\"\"\"\n",
    "\n",
    "# YOUR CODE HERE\n",
    "np.eye(3)\n",
    "# raise NotImplementedError()"
   ]
  },
  {
   "cell_type": "code",
   "execution_count": 67,
   "metadata": {
    "deletable": false,
    "nbgrader": {
     "checksum": "65fba2d0456243dd177f038739bdbac5",
     "grade": false,
     "grade_id": "Rand_num",
     "locked": false,
     "schema_version": 1,
     "solution": true
    }
   },
   "outputs": [
    {
     "data": {
      "text/plain": [
       "0.3541138220484237"
      ]
     },
     "execution_count": 67,
     "metadata": {},
     "output_type": "execute_result"
    }
   ],
   "source": [
    "\"\"\"Use NumPy to generate a random number between 0 and 1\"\"\"\n",
    "\n",
    "# YOUR CODE HERE\n",
    "np.random.random()\n",
    "# raise NotImplementedError()"
   ]
  },
  {
   "cell_type": "code",
   "execution_count": 69,
   "metadata": {
    "deletable": false,
    "nbgrader": {
     "checksum": "723187969a428b78dd6966707eb7d8cf",
     "grade": false,
     "grade_id": "Sample_rand_norm_dist",
     "locked": false,
     "schema_version": 1,
     "solution": true
    }
   },
   "outputs": [
    {
     "data": {
      "text/plain": [
       "array([-1.143342  ,  0.05526995,  0.71812292, -0.55002698,  0.79612936,\n",
       "       -0.65610806,  0.48393656,  0.39150492, -0.281597  ,  1.23572229,\n",
       "        1.5503286 ,  0.75004106,  0.7535081 , -1.19786558, -0.57332123,\n",
       "        0.17254355, -0.25761275, -0.61292213,  0.4250584 , -2.41564001,\n",
       "       -1.57784066, -0.60193048,  0.03523877,  0.33005573,  1.76566402])"
      ]
     },
     "execution_count": 69,
     "metadata": {},
     "output_type": "execute_result"
    }
   ],
   "source": [
    "\"\"\"Use NumPy to generate an array of 25 random numbers sampled from a standard normal distribution\"\"\"\n",
    "\n",
    "# YOUR CODE HERE\n",
    "np.random.standard_normal(25)\n",
    "\n",
    "# raise NotImplementedError()"
   ]
  },
  {
   "cell_type": "code",
   "execution_count": 122,
   "metadata": {
    "deletable": false,
    "nbgrader": {
     "checksum": "76eb3a7c407996963f497c0da23fca8c",
     "grade": false,
     "grade_id": "Built_mat",
     "locked": false,
     "schema_version": 1,
     "solution": true
    }
   },
   "outputs": [
    {
     "data": {
      "text/plain": [
       "array([[0.01, 0.02, 0.03, 0.04, 0.05, 0.06, 0.07, 0.08, 0.09, 0.1 ],\n",
       "       [0.11, 0.12, 0.13, 0.14, 0.15, 0.16, 0.17, 0.18, 0.19, 0.2 ],\n",
       "       [0.21, 0.22, 0.23, 0.24, 0.25, 0.26, 0.27, 0.28, 0.29, 0.3 ],\n",
       "       [0.31, 0.32, 0.33, 0.34, 0.35, 0.36, 0.37, 0.38, 0.39, 0.4 ],\n",
       "       [0.41, 0.42, 0.43, 0.44, 0.45, 0.46, 0.47, 0.48, 0.49, 0.5 ],\n",
       "       [0.51, 0.52, 0.53, 0.54, 0.55, 0.56, 0.57, 0.58, 0.59, 0.6 ],\n",
       "       [0.61, 0.62, 0.63, 0.64, 0.65, 0.66, 0.67, 0.68, 0.69, 0.7 ],\n",
       "       [0.71, 0.72, 0.73, 0.74, 0.75, 0.76, 0.77, 0.78, 0.79, 0.8 ],\n",
       "       [0.81, 0.82, 0.83, 0.84, 0.85, 0.86, 0.87, 0.88, 0.89, 0.9 ],\n",
       "       [0.91, 0.92, 0.93, 0.94, 0.95, 0.96, 0.97, 0.98, 0.99, 1.  ]])"
      ]
     },
     "execution_count": 122,
     "metadata": {},
     "output_type": "execute_result"
    }
   ],
   "source": [
    "\"\"\"Create the following matrix\"\"\"\n",
    "#First row 0.01 to 0.10 in steps of 0.01. Second row 0.11 to 0.20. Total 10 rows. Last element is 1.00\n",
    "\n",
    "# YOUR CODE HERE\n",
    "\n",
    "\n",
    "out=np.zeros((10,10))\n",
    "\n",
    "base=np.arange(0.01,0.11,0.01)\n",
    "\n",
    "for x in range(10):\n",
    "    out[x]=base+(x*0.1)\n",
    "\n",
    "out\n",
    "# raise NotImplementedError()"
   ]
  },
  {
   "cell_type": "code",
   "execution_count": 94,
   "metadata": {
    "deletable": false,
    "nbgrader": {
     "checksum": "3ae0efbbcaffbca4744bd7e997c88f5f",
     "grade": false,
     "grade_id": "Create_linspace",
     "locked": false,
     "schema_version": 1,
     "solution": true
    }
   },
   "outputs": [
    {
     "data": {
      "text/plain": [
       "array([0.        , 0.05263158, 0.10526316, 0.15789474, 0.21052632,\n",
       "       0.26315789, 0.31578947, 0.36842105, 0.42105263, 0.47368421,\n",
       "       0.52631579, 0.57894737, 0.63157895, 0.68421053, 0.73684211,\n",
       "       0.78947368, 0.84210526, 0.89473684, 0.94736842, 1.        ])"
      ]
     },
     "execution_count": 94,
     "metadata": {},
     "output_type": "execute_result"
    }
   ],
   "source": [
    "# \"\"\"Create an array of 20 linearly spaced points between 0 and 1\"\"\"\n",
    "\n",
    "# YOUR CODE HERE\n",
    "np.linspace(0,1,endpoint=True,num=20)\n",
    "# raise NotImplementedError()"
   ]
  },
  {
   "cell_type": "markdown",
   "metadata": {},
   "source": [
    "## Numpy Indexing and Selection\n",
    "\n",
    "Now you will be given a few matrices, and be asked to replicate the resulting matrix outputs:"
   ]
  },
  {
   "cell_type": "code",
   "execution_count": 121,
   "metadata": {
    "deletable": false,
    "nbgrader": {
     "checksum": "af5a9051b6019b621cc1a9de7bda5b52",
     "grade": false,
     "grade_id": "Reprod_1",
     "locked": false,
     "schema_version": 1,
     "solution": true
    }
   },
   "outputs": [
    {
     "data": {
      "text/plain": [
       "array([[ 1,  2,  3,  4,  5],\n",
       "       [ 6,  7,  8,  9, 10],\n",
       "       [11, 12, 13, 14, 15],\n",
       "       [16, 17, 18, 19, 20],\n",
       "       [21, 22, 23, 24, 25]])"
      ]
     },
     "execution_count": 121,
     "metadata": {},
     "output_type": "execute_result"
    }
   ],
   "source": [
    "\"\"\"Reproduce the below matrix\"\"\"\n",
    "\n",
    "# YOUR CODE HERE\n",
    "np.arange(1,26).reshape((5,5))\n",
    "# raise NotImplementedError()"
   ]
  },
  {
   "attachments": {
    "Screen%20Shot%202020-03-11%20at%203.11.07%20PM.png": {
     "image/png": "[encoded data removed]"
    }
   },
   "cell_type": "markdown",
   "metadata": {},
   "source": [
    "![Screen%20Shot%202020-03-11%20at%203.11.07%20PM.png](attachment:Screen%20Shot%202020-03-11%20at%203.11.07%20PM.png)"
   ]
  },
  {
   "cell_type": "code",
   "execution_count": 123,
   "metadata": {
    "deletable": false,
    "nbgrader": {
     "checksum": "b5b1e6b08af61ba514af45a23b63757c",
     "grade": false,
     "grade_id": "Reprod_2",
     "locked": false,
     "schema_version": 1,
     "solution": true
    }
   },
   "outputs": [
    {
     "data": {
      "text/plain": [
       "array([[12, 13, 14, 15],\n",
       "       [17, 18, 19, 20],\n",
       "       [22, 23, 24, 25]])"
      ]
     },
     "execution_count": 123,
     "metadata": {},
     "output_type": "execute_result"
    }
   ],
   "source": [
    "\"\"\"Reproduce the below matrix\"\"\"\n",
    "\n",
    "# YOUR CODE HERE\n",
    "out = np.arange(12,27).reshape(3,5)\n",
    "out=out[:,:-1]\n",
    "out\n",
    "# raise NotImplementedError()"
   ]
  },
  {
   "attachments": {
    "Screen%20Shot%202020-03-11%20at%203.13.38%20PM.png": {
     "image/png": "[encoded data removed]"
    }
   },
   "cell_type": "markdown",
   "metadata": {},
   "source": [
    "![Screen%20Shot%202020-03-11%20at%203.13.38%20PM.png](attachment:Screen%20Shot%202020-03-11%20at%203.13.38%20PM.png)"
   ]
  },
  {
   "cell_type": "code",
   "execution_count": 131,
   "metadata": {
    "deletable": false,
    "nbgrader": {
     "checksum": "2c54bf322183aaa5e9f1e4aa147011fd",
     "grade": false,
     "grade_id": "Reprod_3",
     "locked": false,
     "schema_version": 1,
     "solution": true
    }
   },
   "outputs": [
    {
     "name": "stdout",
     "output_type": "stream",
     "text": [
      "20\n"
     ]
    }
   ],
   "source": [
    "\"\"\"Reproduce the below matrix\"\"\"\n",
    "\n",
    "# YOUR CODE HERE\n",
    "print(20)\n",
    "# raise NotImplementedError()"
   ]
  },
  {
   "cell_type": "markdown",
   "metadata": {
    "deletable": false,
    "nbgrader": {
     "checksum": "2c54bf322183aaa5e9f1e4aa147011fd",
     "grade": false,
     "grade_id": "Reprod_3",
     "locked": false,
     "schema_version": 1,
     "solution": true
    }
   },
   "source": [
    "20"
   ]
  },
  {
   "cell_type": "code",
   "execution_count": 126,
   "metadata": {
    "deletable": false,
    "nbgrader": {
     "checksum": "05a9054d3f839b462ac743053c0a3315",
     "grade": false,
     "grade_id": "Reprod_4",
     "locked": false,
     "schema_version": 1,
     "solution": true
    }
   },
   "outputs": [
    {
     "data": {
      "text/plain": [
       "array([[ 2],\n",
       "       [ 7],\n",
       "       [12]])"
      ]
     },
     "execution_count": 126,
     "metadata": {},
     "output_type": "execute_result"
    }
   ],
   "source": [
    "\"\"\"Reproduce the below matrix\"\"\"\n",
    "\n",
    "# YOUR CODE HERE\n",
    "np.arange(2,13,5).reshape(3,1)\n",
    "# raise NotImplementedError()"
   ]
  },
  {
   "attachments": {
    "Screen%20Shot%202020-03-11%20at%203.15.54%20PM.png": {
     "image/png": "[encoded data removed]"
    }
   },
   "cell_type": "markdown",
   "metadata": {},
   "source": [
    "![Screen%20Shot%202020-03-11%20at%203.15.54%20PM.png](attachment:Screen%20Shot%202020-03-11%20at%203.15.54%20PM.png)"
   ]
  },
  {
   "cell_type": "code",
   "execution_count": 132,
   "metadata": {
    "deletable": false,
    "nbgrader": {
     "checksum": "262a44b57c379de7a3422b4ee654f3be",
     "grade": false,
     "grade_id": "Reprod_5",
     "locked": false,
     "schema_version": 1,
     "solution": true
    }
   },
   "outputs": [
    {
     "data": {
      "text/plain": [
       "array([21, 22, 23, 24, 25])"
      ]
     },
     "execution_count": 132,
     "metadata": {},
     "output_type": "execute_result"
    }
   ],
   "source": [
    "\"\"\"Reproduce the below matrix\"\"\"\n",
    "\n",
    "# YOUR CODE HERE\n",
    "np.arange(21,26)\n",
    "# raise NotImplementedError()"
   ]
  },
  {
   "attachments": {
    "Screen%20Shot%202020-03-11%20at%203.18.16%20PM.png": {
     "image/png": "[encoded data removed]"
    }
   },
   "cell_type": "markdown",
   "metadata": {},
   "source": [
    "![Screen%20Shot%202020-03-11%20at%203.18.16%20PM.png](attachment:Screen%20Shot%202020-03-11%20at%203.18.16%20PM.png)"
   ]
  },
  {
   "cell_type": "code",
   "execution_count": 134,
   "metadata": {
    "deletable": false,
    "nbgrader": {
     "checksum": "6bd1df9bb4bb9c61d61216a439568c29",
     "grade": false,
     "grade_id": "Reprod_6",
     "locked": false,
     "schema_version": 1,
     "solution": true
    }
   },
   "outputs": [
    {
     "data": {
      "text/plain": [
       "array([[16, 17, 18, 19, 20],\n",
       "       [21, 22, 23, 24, 25]])"
      ]
     },
     "execution_count": 134,
     "metadata": {},
     "output_type": "execute_result"
    }
   ],
   "source": [
    "\"\"\"Reproduce the below matrix\"\"\"\n",
    "\n",
    "# YOUR CODE HERE\n",
    "np.arange(16,26).reshape(2,5)\n",
    "# raise NotImplementedError()"
   ]
  },
  {
   "attachments": {
    "Screen%20Shot%202020-03-11%20at%203.19.32%20PM.png": {
     "image/png": "[encoded data removed]"
    }
   },
   "cell_type": "markdown",
   "metadata": {},
   "source": [
    "![Screen%20Shot%202020-03-11%20at%203.19.32%20PM.png](attachment:Screen%20Shot%202020-03-11%20at%203.19.32%20PM.png)"
   ]
  },
  {
   "cell_type": "markdown",
   "metadata": {},
   "source": [
    "### Now do the following"
   ]
  },
  {
   "cell_type": "code",
   "execution_count": 137,
   "metadata": {
    "deletable": false,
    "nbgrader": {
     "checksum": "ae199fe3c64df4ff3290f64f12931eb1",
     "grade": false,
     "grade_id": "Mat_sum",
     "locked": false,
     "schema_version": 1,
     "solution": true
    }
   },
   "outputs": [
    {
     "data": {
      "text/plain": [
       "25.0"
      ]
     },
     "execution_count": 137,
     "metadata": {},
     "output_type": "execute_result"
    }
   ],
   "source": [
    "\"\"\"Get the sum of all the values in mat\"\"\"\n",
    "# YOUR CODE HERE\n",
    "data = np.ones(25).reshape(5,5)\n",
    "data.sum()\n",
    "# raise NotImplementedError()"
   ]
  },
  {
   "cell_type": "code",
   "execution_count": 139,
   "metadata": {
    "deletable": false,
    "nbgrader": {
     "checksum": "511cc2309f97700599804414021e7fb2",
     "grade": false,
     "grade_id": "Mat_stddev",
     "locked": false,
     "schema_version": 1,
     "solution": true
    }
   },
   "outputs": [
    {
     "data": {
      "text/plain": [
       "0.0"
      ]
     },
     "execution_count": 139,
     "metadata": {},
     "output_type": "execute_result"
    }
   ],
   "source": [
    "\"\"\"Get the stddev of all the values in mat\"\"\"\n",
    "# YOUR CODE HERE\n",
    "data.std()\n",
    "# raise NotImplementedError()"
   ]
  },
  {
   "cell_type": "code",
   "execution_count": 141,
   "metadata": {
    "deletable": false,
    "nbgrader": {
     "checksum": "676b0abe449de75a84edede9eaca64e2",
     "grade": false,
     "grade_id": "Mat_colsum",
     "locked": false,
     "schema_version": 1,
     "solution": true
    }
   },
   "outputs": [
    {
     "data": {
      "text/plain": [
       "array([5., 5., 5., 5., 5.])"
      ]
     },
     "execution_count": 141,
     "metadata": {},
     "output_type": "execute_result"
    }
   ],
   "source": [
    "\"\"\"Get the sum of all the columns in mat\"\"\"\n",
    "# YOUR CODE HERE\n",
    "data.sum(axis=0)\n",
    "# raise NotImplementedError()"
   ]
  },
  {
   "cell_type": "markdown",
   "metadata": {},
   "source": [
    "###  Same Random Numbers\n",
    "We worked a lot with random data with numpy, but is there a way we can insure that we always get the same random numbers? [Click Here for a Hint](https://www.google.com/search?q=numpy+random+seed&rlz=1C1CHBF_enUS747US747&oq=numpy+random+seed&aqs=chrome..69i57j69i60j0l4.2087j0j7&sourceid=chrome&ie=UTF-8)"
   ]
  },
  {
   "cell_type": "code",
   "execution_count": 151,
   "metadata": {
    "deletable": false,
    "nbgrader": {
     "checksum": "4482f812065c5abd7adf9c486582d1ff",
     "grade": false,
     "grade_id": "Fix_rand",
     "locked": false,
     "schema_version": 1,
     "solution": true
    }
   },
   "outputs": [
    {
     "data": {
      "text/plain": [
       "0.417022004702574"
      ]
     },
     "execution_count": 151,
     "metadata": {},
     "output_type": "execute_result"
    }
   ],
   "source": [
    "\"\"\"Call numpy function that insures we always get the same random number\"\"\"\n",
    "\n",
    "# YOUR CODE HERE\n",
    "np.random.seed(1)\n",
    "np.random.random()\n",
    "# raise NotImplementedError()"
   ]
  },
  {
   "cell_type": "markdown",
   "metadata": {},
   "source": [
    "# Problem 3: Pandas"
   ]
  },
  {
   "cell_type": "markdown",
   "metadata": {},
   "source": [
    "Use the csv file in this folder to complete the tasks in bold below!\n",
    "\n",
    "** NOTE: ALL TASKS MUST BE DONE IN ONE LINE OF PANDAS CODE. **"
   ]
  },
  {
   "cell_type": "markdown",
   "metadata": {},
   "source": [
    "** Import pandas and read in the banklist.csv file into a dataframe called banks. **"
   ]
  },
  {
   "cell_type": "code",
   "execution_count": 155,
   "metadata": {},
   "outputs": [],
   "source": [
    "import pandas as pd\n",
    "banks = pd.read_csv('banklist.csv')"
   ]
  },
  {
   "cell_type": "code",
   "execution_count": 156,
   "metadata": {
    "deletable": false,
    "nbgrader": {
     "checksum": "1867f765a6979c20384a2119a17d6886",
     "grade": false,
     "grade_id": "Show_head_df",
     "locked": false,
     "schema_version": 1,
     "solution": true
    }
   },
   "outputs": [
    {
     "data": {
      "text/html": [
       "<div>\n",
       "<style scoped>\n",
       "    .dataframe tbody tr th:only-of-type {\n",
       "        vertical-align: middle;\n",
       "    }\n",
       "\n",
       "    .dataframe tbody tr th {\n",
       "        vertical-align: top;\n",
       "    }\n",
       "\n",
       "    .dataframe thead th {\n",
       "        text-align: right;\n",
       "    }\n",
       "</style>\n",
       "<table border=\"1\" class=\"dataframe\">\n",
       "  <thead>\n",
       "    <tr style=\"text-align: right;\">\n",
       "      <th></th>\n",
       "      <th>Bank Name</th>\n",
       "      <th>City</th>\n",
       "      <th>ST</th>\n",
       "      <th>CERT</th>\n",
       "      <th>Acquiring Institution</th>\n",
       "      <th>Closing Date</th>\n",
       "      <th>Updated Date</th>\n",
       "    </tr>\n",
       "  </thead>\n",
       "  <tbody>\n",
       "    <tr>\n",
       "      <th>0</th>\n",
       "      <td>Fayette County Bank</td>\n",
       "      <td>Saint Elmo</td>\n",
       "      <td>IL</td>\n",
       "      <td>1802</td>\n",
       "      <td>United Fidelity Bank, fsb</td>\n",
       "      <td>26-May-17</td>\n",
       "      <td>1-Jun-17</td>\n",
       "    </tr>\n",
       "    <tr>\n",
       "      <th>1</th>\n",
       "      <td>Guaranty Bank, (d/b/a BestBank in Georgia &amp; Mi...</td>\n",
       "      <td>Milwaukee</td>\n",
       "      <td>WI</td>\n",
       "      <td>30003</td>\n",
       "      <td>First-Citizens Bank &amp; Trust Company</td>\n",
       "      <td>5-May-17</td>\n",
       "      <td>1-Jun-17</td>\n",
       "    </tr>\n",
       "    <tr>\n",
       "      <th>2</th>\n",
       "      <td>First NBC Bank</td>\n",
       "      <td>New Orleans</td>\n",
       "      <td>LA</td>\n",
       "      <td>58302</td>\n",
       "      <td>Whitney Bank</td>\n",
       "      <td>28-Apr-17</td>\n",
       "      <td>23-May-17</td>\n",
       "    </tr>\n",
       "    <tr>\n",
       "      <th>3</th>\n",
       "      <td>Proficio Bank</td>\n",
       "      <td>Cottonwood Heights</td>\n",
       "      <td>UT</td>\n",
       "      <td>35495</td>\n",
       "      <td>Cache Valley Bank</td>\n",
       "      <td>3-Mar-17</td>\n",
       "      <td>18-May-17</td>\n",
       "    </tr>\n",
       "    <tr>\n",
       "      <th>4</th>\n",
       "      <td>Seaway Bank and Trust Company</td>\n",
       "      <td>Chicago</td>\n",
       "      <td>IL</td>\n",
       "      <td>19328</td>\n",
       "      <td>State Bank of Texas</td>\n",
       "      <td>27-Jan-17</td>\n",
       "      <td>18-May-17</td>\n",
       "    </tr>\n",
       "  </tbody>\n",
       "</table>\n",
       "</div>"
      ],
      "text/plain": [
       "                                           Bank Name                City  ST  \\\n",
       "0                                Fayette County Bank          Saint Elmo  IL   \n",
       "1  Guaranty Bank, (d/b/a BestBank in Georgia & Mi...           Milwaukee  WI   \n",
       "2                                     First NBC Bank         New Orleans  LA   \n",
       "3                                      Proficio Bank  Cottonwood Heights  UT   \n",
       "4                      Seaway Bank and Trust Company             Chicago  IL   \n",
       "\n",
       "    CERT                Acquiring Institution Closing Date Updated Date  \n",
       "0   1802            United Fidelity Bank, fsb    26-May-17     1-Jun-17  \n",
       "1  30003  First-Citizens Bank & Trust Company     5-May-17     1-Jun-17  \n",
       "2  58302                         Whitney Bank    28-Apr-17    23-May-17  \n",
       "3  35495                    Cache Valley Bank     3-Mar-17    18-May-17  \n",
       "4  19328                  State Bank of Texas    27-Jan-17    18-May-17  "
      ]
     },
     "execution_count": 156,
     "metadata": {},
     "output_type": "execute_result"
    }
   ],
   "source": [
    "\"\"\"Type code to show head of dataframe\"\"\"\n",
    "# YOUR CODE HERE\n",
    "banks.head()\n",
    "# raise NotImplementedError()"
   ]
  },
  {
   "cell_type": "code",
   "execution_count": 158,
   "metadata": {
    "deletable": false,
    "nbgrader": {
     "checksum": "76aad9df6554f65db04304d723cf31dc",
     "grade": false,
     "grade_id": "Show_colnames",
     "locked": false,
     "schema_version": 1,
     "solution": true
    }
   },
   "outputs": [
    {
     "data": {
      "text/plain": [
       "Index(['Bank Name', 'City', 'ST', 'CERT', 'Acquiring Institution',\n",
       "       'Closing Date', 'Updated Date'],\n",
       "      dtype='object')"
      ]
     },
     "execution_count": 158,
     "metadata": {},
     "output_type": "execute_result"
    }
   ],
   "source": [
    "\"\"\"Type code to show column names\"\"\"\n",
    "# YOUR CODE HERE\n",
    "banks.columns\n",
    "# raise NotImplementedError()"
   ]
  },
  {
   "cell_type": "code",
   "execution_count": 162,
   "metadata": {
    "deletable": false,
    "nbgrader": {
     "checksum": "4ae3784102971f8b10a8b394c2ce9c7f",
     "grade": false,
     "grade_id": "Count_num_states",
     "locked": false,
     "schema_version": 1,
     "solution": true
    }
   },
   "outputs": [
    {
     "data": {
      "text/plain": [
       "44"
      ]
     },
     "execution_count": 162,
     "metadata": {},
     "output_type": "execute_result"
    }
   ],
   "source": [
    "\"\"\"Count number of states in dataset\"\"\"\n",
    "# YOUR CODE HERE\n",
    "banks['ST'].nunique()\n",
    "# raise NotImplementedError()"
   ]
  },
  {
   "cell_type": "code",
   "execution_count": 167,
   "metadata": {
    "deletable": false,
    "nbgrader": {
     "checksum": "576b39ed563ee191eedd598ac3dffbe4",
     "grade": false,
     "grade_id": "Get_state_names",
     "locked": false,
     "schema_version": 1,
     "solution": true
    }
   },
   "outputs": [
    {
     "data": {
      "text/plain": [
       "array(['IL', 'WI', 'LA', 'UT', 'NJ', 'AR', 'GA', 'PA', 'TN', 'WA', 'CO',\n",
       "       'PR', 'FL', 'MN', 'CA', 'MD', 'OK', 'OH', 'SC', 'VA', 'ID', 'TX',\n",
       "       'CT', 'AZ', 'NV', 'NC', 'KY', 'MO', 'KS', 'AL', 'MI', 'IN', 'IA',\n",
       "       'NE', 'MS', 'NM', 'OR', 'NY', 'MA', 'SD', 'WY', 'WV', 'NH', 'HI'],\n",
       "      dtype=object)"
      ]
     },
     "execution_count": 167,
     "metadata": {},
     "output_type": "execute_result"
    }
   ],
   "source": [
    "\"\"\"Get a list or array of all states in a dataset\"\"\"\n",
    "# YOUR CODE HERE\n",
    "banks['ST'].unique()\n",
    "# raise NotImplementedError()"
   ]
  },
  {
   "cell_type": "code",
   "execution_count": 221,
   "metadata": {
    "deletable": false,
    "nbgrader": {
     "checksum": "c4274b80b157333c6df6a39be8f84daf",
     "grade": false,
     "grade_id": "Top5_bank_fail",
     "locked": false,
     "schema_version": 1,
     "solution": true
    }
   },
   "outputs": [
    {
     "data": {
      "text/plain": [
       "ST\n",
       "GA    86\n",
       "FL    75\n",
       "IL    64\n",
       "CA    40\n",
       "MN    22\n",
       "Name: count, dtype: int64"
      ]
     },
     "execution_count": 221,
     "metadata": {},
     "output_type": "execute_result"
    }
   ],
   "source": [
    "\"\"\"What are the top 5 states with the most failed banks?\"\"\"\n",
    "# YOUR CODE HERE\n",
    "failed=banks[banks['Acquiring Institution'] != 'No Acquirer']\n",
    "failed['ST'].value_counts().head(5)\n",
    "# raise NotImplementedError()"
   ]
  },
  {
   "cell_type": "code",
   "execution_count": 222,
   "metadata": {
    "deletable": false,
    "nbgrader": {
     "checksum": "7565c53e1a6dcea1b9a4bc65dfcef7af",
     "grade": false,
     "grade_id": "Top5_acquire_instit",
     "locked": false,
     "schema_version": 1,
     "solution": true
    }
   },
   "outputs": [
    {
     "data": {
      "text/plain": [
       "Acquiring Institution\n",
       "State Bank and Trust Company           12\n",
       "First-Citizens Bank & Trust Company    11\n",
       "Ameris Bank                            10\n",
       "U.S. Bank N.A.                          9\n",
       "Community & Southern Bank               8\n",
       "Name: count, dtype: int64"
      ]
     },
     "execution_count": 222,
     "metadata": {},
     "output_type": "execute_result"
    }
   ],
   "source": [
    "\"\"\"What are the top 5 acquiring institutions?\"\"\"\n",
    "# YOUR CODE HERE\n",
    "failed['Acquiring Institution'].value_counts().head(5)\n",
    "# raise NotImplementedError()"
   ]
  },
  {
   "cell_type": "code",
   "execution_count": 211,
   "metadata": {
    "deletable": false,
    "nbgrader": {
     "checksum": "60a20de6cdcc42182f0f8326de685693",
     "grade": false,
     "grade_id": "Texas_acquisitions",
     "locked": false,
     "schema_version": 1,
     "solution": true
    }
   },
   "outputs": [
    {
     "name": "stdout",
     "output_type": "stream",
     "text": [
      "The number of banks acquired by the State Bank of Texas is 3 and the number actually in Texas is 1.\n"
     ]
    }
   ],
   "source": [
    "\"\"\"How many banks has the State Bank of Texas acquired? How many of them were actually in Texas?\"\"\"\n",
    "# YOUR CODE HERE\n",
    "SBTEX = banks[banks['Acquiring Institution'] == 'State Bank of Texas']\n",
    "Tex_num = SBTEX['Bank Name'].nunique()\n",
    "Tex_count = SBTEX[SBTEX['ST'] == 'TX'].shape[0]\n",
    "# raise NotImplementedError()\n",
    "\n",
    "print('The number of banks acquired by the State Bank of Texas is %s and the number actually in Texas is %s.' %(Tex_num,Tex_count))"
   ]
  },
  {
   "cell_type": "code",
   "execution_count": 223,
   "metadata": {
    "deletable": false,
    "nbgrader": {
     "checksum": "f90af4da0009214f76c8cd415803ab99",
     "grade": false,
     "grade_id": "Cali_bank_failures",
     "locked": false,
     "schema_version": 1,
     "solution": true
    }
   },
   "outputs": [
    {
     "data": {
      "text/plain": [
       "City\n",
       "Los Angeles    4\n",
       "Name: count, dtype: int64"
      ]
     },
     "execution_count": 223,
     "metadata": {},
     "output_type": "execute_result"
    }
   ],
   "source": [
    "\"\"\"What is the most common city in California for a bank to fail in?\"\"\"\n",
    "# YOUR CODE HERE\n",
    "CALFAIL = failed[(failed['ST']=='CA')]\n",
    "CALFAIL['City'].value_counts().head(1)\n",
    "\n",
    "# raise NotImplementedError()"
   ]
  },
  {
   "cell_type": "code",
   "execution_count": 230,
   "metadata": {
    "deletable": false,
    "nbgrader": {
     "checksum": "1ed5a199751b31eede182fe71a40c3a8",
     "grade": false,
     "grade_id": "No_bank_name",
     "locked": false,
     "schema_version": 1,
     "solution": true
    }
   },
   "outputs": [
    {
     "data": {
      "text/plain": [
       "12"
      ]
     },
     "execution_count": 230,
     "metadata": {},
     "output_type": "execute_result"
    }
   ],
   "source": [
    "\"\"\"How many failed banks don't have the word \"Bank\" in their name?\"\"\"\n",
    "# YOUR CODE HERE\n",
    "failed[~failed['Bank Name'].str.contains('Bank')].shape[0]\n",
    "# raise NotImplementedError()"
   ]
  },
  {
   "cell_type": "code",
   "execution_count": 236,
   "metadata": {
    "deletable": false,
    "nbgrader": {
     "checksum": "fb4bf8f3b75e851b430c714c6248dbd1",
     "grade": false,
     "grade_id": "S_bank_name",
     "locked": false,
     "schema_version": 1,
     "solution": true
    }
   },
   "outputs": [
    {
     "data": {
      "text/plain": [
       "53"
      ]
     },
     "execution_count": 236,
     "metadata": {},
     "output_type": "execute_result"
    }
   ],
   "source": [
    "\"\"\"How many bank names start with the letter 's' ?\"\"\"\n",
    "# YOUR CODE HERE\n",
    "banks['Bank Name'].str.startswith('S').sum()\n",
    "# raise NotImplementedError()"
   ]
  },
  {
   "cell_type": "code",
   "execution_count": 249,
   "metadata": {
    "deletable": false,
    "nbgrader": {
     "checksum": "245d2dac2458959bfbae8e36331cfa17",
     "grade": false,
     "grade_id": "Cert_val_20000",
     "locked": false,
     "schema_version": 1,
     "solution": true
    }
   },
   "outputs": [
    {
     "data": {
      "text/plain": [
       "417"
      ]
     },
     "execution_count": 249,
     "metadata": {},
     "output_type": "execute_result"
    }
   ],
   "source": [
    "\"\"\"How many CERT values are above 20000 ?\"\"\"\n",
    "# YOUR CODE HERE\n",
    "_20k = banks[banks['CERT']>20000]\n",
    "_20k.shape[0]\n",
    "# raise NotImplementedError()"
   ]
  },
  {
   "cell_type": "code",
   "execution_count": 257,
   "metadata": {
    "deletable": false,
    "nbgrader": {
     "checksum": "fb2e15d893034831390c1b3804059f8f",
     "grade": false,
     "grade_id": "Two_word_bank_name",
     "locked": false,
     "schema_version": 1,
     "solution": true
    }
   },
   "outputs": [
    {
     "data": {
      "text/plain": [
       "114"
      ]
     },
     "execution_count": 257,
     "metadata": {},
     "output_type": "execute_result"
    }
   ],
   "source": [
    "\"\"\"How many bank names consist of just two words? (e.g. \"First Bank\" , \"Bank Georgia\" )\"\"\"\n",
    "# YOUR CODE HERE\n",
    "lob=(banks['Bank Name'].str.split().apply(len)==2).sum()\n",
    "lob\n",
    "# raise NotImplementedError()"
   ]
  },
  {
   "cell_type": "code",
   "execution_count": 270,
   "metadata": {
    "deletable": false,
    "nbgrader": {
     "checksum": "4d34f598e34ec36cb681d76c839302c9",
     "grade": false,
     "grade_id": "2008_Bank_closure",
     "locked": false,
     "schema_version": 1,
     "solution": true
    }
   },
   "outputs": [
    {
     "data": {
      "text/plain": [
       "25"
      ]
     },
     "execution_count": 270,
     "metadata": {},
     "output_type": "execute_result"
    }
   ],
   "source": [
    "\"\"\"How many banks closed in the year 2008? Feel free to skip this one!\"\"\"\n",
    "# YOUR CODE HERE\n",
    "pd.to_datetime(failed['Closing Date'],format='%d-%b-%y')\n",
    "failed[(failed['Closing Date']<'1-Jan-2009') & (failed['Closing Date']>'31-Dec-2007')].shape[0]\n",
    "\n",
    "# raise NotImplementedError()"
   ]
  },
  {
   "cell_type": "markdown",
   "metadata": {},
   "source": [
    "# Problem 4: Matplotlib\n",
    "\n",
    "Take your time with these, Matplotlib can be tricky to understand at first. These are relatively simple plots, but they can be hard if this is your first time with matplotlib.\n",
    "\n",
    "Also don't worry if you find the matplotlib syntax frustrating, we will switch to using seaborn and pandas built-in visualization capabilities. But, those are built-off of matplotlib, which is why it is still important to get exposure to it!\n",
    "\n",
    "** * NOTE: ALL THE COMMANDS FOR PLOTTING A FIGURE SHOULD ALL GO IN THE SAME CELL. SEPARATING THEM OUT INTO MULTIPLE CELLS MAY CAUSE NOTHING TO SHOW UP. * **\n",
    "\n",
    "Follow the instructions to recreate the plots using this data:\n",
    "\n",
    "## Data"
   ]
  },
  {
   "cell_type": "code",
   "execution_count": 273,
   "metadata": {},
   "outputs": [],
   "source": [
    "import numpy as np\n",
    "x = np.arange(0,100)\n",
    "y = x*2\n",
    "z = x**2"
   ]
  },
  {
   "cell_type": "markdown",
   "metadata": {},
   "source": [
    "** Import matplotlib.pyplot as plt and set %matplotlib inline if you are using the jupyter notebook. ** "
   ]
  },
  {
   "cell_type": "code",
   "execution_count": 276,
   "metadata": {},
   "outputs": [],
   "source": [
    "import matplotlib.pyplot as plt\n",
    "%matplotlib inline"
   ]
  },
  {
   "cell_type": "markdown",
   "metadata": {},
   "source": [
    "** What command do you use if you aren't using the jupyter notebook? **\n"
   ]
  },
  {
   "cell_type": "markdown",
   "metadata": {
    "deletable": false,
    "nbgrader": {
     "checksum": "be6fbf7569166115bbd3dc7bde6c7c58",
     "grade": true,
     "grade_id": "Matplotlib_checkin",
     "locked": false,
     "points": 1,
     "schema_version": 1,
     "solution": true
    }
   },
   "source": [
    "You just leave it as import...plt and then use plt.plot() when you need to plot something"
   ]
  },
  {
   "cell_type": "markdown",
   "metadata": {},
   "source": [
    "### Exercise 1\n",
    "\n",
    "** Follow along with these steps: **\n",
    "* ** Create a figure object called fig using plt.figure() **\n",
    "* ** Use add_axes to add an axis to the figure canvas at [0,0,1,1]. Call this new axis ax. **\n",
    "* ** Plot (x,y) on that axes and set the labels and titles to match the plot below:**"
   ]
  },
  {
   "cell_type": "code",
   "execution_count": 285,
   "metadata": {
    "deletable": false,
    "nbgrader": {
     "checksum": "1b13e04663cfed7ee9d6729e3102ad78",
     "grade": false,
     "grade_id": "Create_plot",
     "locked": false,
     "schema_version": 1,
     "solution": true
    }
   },
   "outputs": [
    {
     "data": {
      "text/plain": [
       "[<matplotlib.lines.Line2D at 0x141d45f34d0>]"
      ]
     },
     "execution_count": 285,
     "metadata": {},
     "output_type": "execute_result"
    },
    {
     "data": {
      "image/png": "[encoded data removed]",
      "text/plain": [
       "<Figure size 640x480 with 1 Axes>"
      ]
     },
     "metadata": {},
     "output_type": "display_data"
    }
   ],
   "source": [
    "\"\"\"Follow instructions above and create plot\"\"\"\n",
    "\n",
    "# YOUR CODE HERE\n",
    "fig = plt.figure()\n",
    "ax = fig.add_axes([0,0,1,1])\n",
    "ax.set_xlabel('X')\n",
    "ax.set_ylabel('Y')\n",
    "ax.plot(x,y)\n",
    "# raise NotImplementedError()"
   ]
  },
  {
   "cell_type": "markdown",
   "metadata": {},
   "source": [
    "## Exercise 2\n",
    "** Create a figure object and put two axes on it, ax1 and ax2. Located at [0,0,1,1] and [0.2,0.5,.2,.2] respectively.**"
   ]
  },
  {
   "cell_type": "code",
   "execution_count": 286,
   "metadata": {
    "deletable": false,
    "nbgrader": {
     "checksum": "6fb2dbfe74375e0001b18780753a10b7",
     "grade": false,
     "grade_id": "Create_figure",
     "locked": false,
     "schema_version": 1,
     "solution": true
    }
   },
   "outputs": [
    {
     "data": {
      "image/png": "[encoded data removed]",
      "text/plain": [
       "<Figure size 640x480 with 2 Axes>"
      ]
     },
     "metadata": {},
     "output_type": "display_data"
    }
   ],
   "source": [
    "\"\"\"Follow instructions above and create figure\"\"\"\n",
    "\n",
    "# YOUR CODE HERE\n",
    "fig = plt.figure()\n",
    "ax1 = fig.add_axes([0,0,1,1])\n",
    "ax2 = fig.add_axes([0.2,0.5,.2,.2])\n",
    "# raise NotImplementedError()"
   ]
  },
  {
   "cell_type": "code",
   "execution_count": 292,
   "metadata": {
    "deletable": false,
    "nbgrader": {
     "checksum": "4f5e17564c8adc13ffca88b04163a5b1",
     "grade": false,
     "grade_id": "Plot_xy",
     "locked": false,
     "schema_version": 1,
     "solution": true
    }
   },
   "outputs": [
    {
     "data": {
      "image/png": "[encoded data removed]",
      "text/plain": [
       "<Figure size 640x480 with 2 Axes>"
      ]
     },
     "execution_count": 292,
     "metadata": {},
     "output_type": "execute_result"
    }
   ],
   "source": [
    "\"\"\"Now plot (x,y) on both axes. And call your figure object to show it\"\"\"\n",
    "\n",
    "# YOUR CODE HERE\n",
    "ax1.plot(x,y)\n",
    "ax2.plot(x,y)\n",
    "fig\n",
    "# raise NotImplementedError()"
   ]
  },
  {
   "cell_type": "markdown",
   "metadata": {},
   "source": [
    "## Exercise 3\n",
    "\n",
    "** Create the plot below by adding two axes to a figure object at [0,0,1,1] and [0.2,0.5,.4,.4]**"
   ]
  },
  {
   "cell_type": "code",
   "execution_count": 293,
   "metadata": {
    "deletable": false,
    "nbgrader": {
     "checksum": "bafb3c0a33dba7e7ea9eef574d21d12c",
     "grade": false,
     "grade_id": "Make_fig_with_axis",
     "locked": false,
     "schema_version": 1,
     "solution": true
    }
   },
   "outputs": [
    {
     "data": {
      "image/png": "[encoded data removed]",
      "text/plain": [
       "<Figure size 640x480 with 2 Axes>"
      ]
     },
     "metadata": {},
     "output_type": "display_data"
    }
   ],
   "source": [
    "\"\"\"Follow instructions above and create figure\"\"\"\n",
    "\n",
    "# YOUR CODE HERE\n",
    "fig = plt.figure()\n",
    "ax1 = fig.add_axes([0,0,1,1])\n",
    "ax2 = fig.add_axes([.2,.5,.4,.4])\n",
    "# raise NotImplementedError()"
   ]
  },
  {
   "cell_type": "code",
   "execution_count": 322,
   "metadata": {
    "deletable": false,
    "nbgrader": {
     "checksum": "a438a43b4ff613f2245a274cac24dbc3",
     "grade": false,
     "grade_id": "Recreate_plot",
     "locked": false,
     "schema_version": 1,
     "solution": true
    }
   },
   "outputs": [
    {
     "data": {
      "image/png": "[encoded data removed]",
      "text/plain": [
       "<Figure size 640x480 with 2 Axes>"
      ]
     },
     "execution_count": 322,
     "metadata": {},
     "output_type": "execute_result"
    }
   ],
   "source": [
    "\"\"\"Use x,y, and z arrays to recreate the plot below. Notice the xlimits and y limits on the inserted plot\"\"\"\n",
    "\n",
    "# YOUR CODE HERE\n",
    "ax1.plot(x,z, color='cornflowerblue')\n",
    "ax1.set_xlim(-5,105)\n",
    "ax1.set_ylim(-500,10500)\n",
    "ax1.set_ylabel('Y')\n",
    "ax1.set_xlabel('X')\n",
    "ax1.axis\n",
    "ax2.plot(x,y, color='cornflowerblue')\n",
    "ax2.set_xlim(20,22)\n",
    "ax2.set_ylim(30,50)\n",
    "ax2.set_ylabel('Y')\n",
    "ax2.set_xlabel('X')\n",
    "fig\n",
    "\n",
    "# raise NotImplementedError()"
   ]
  },
  {
   "attachments": {
    "Screen%20Shot%202020-03-11%20at%203.58.10%20PM.png": {
     "image/png": "[encoded data removed]"
    }
   },
   "cell_type": "markdown",
   "metadata": {},
   "source": [
    "![Screen%20Shot%202020-03-11%20at%203.58.10%20PM.png](attachment:Screen%20Shot%202020-03-11%20at%203.58.10%20PM.png)"
   ]
  },
  {
   "cell_type": "markdown",
   "metadata": {},
   "source": [
    "## Exercise 4\n",
    "\n",
    "** Use plt.subplots(nrows=1, ncols=2) to create the plots below.**"
   ]
  },
  {
   "cell_type": "code",
   "execution_count": 311,
   "metadata": {
    "deletable": false,
    "nbgrader": {
     "checksum": "ee8c7dc58aacbaf5ababd4ed71ace9bd",
     "grade": false,
     "grade_id": "Recreate_1",
     "locked": false,
     "schema_version": 1,
     "solution": true
    }
   },
   "outputs": [
    {
     "data": {
      "text/plain": [
       "(<Figure size 640x480 with 2 Axes>, array([<Axes: >, <Axes: >], dtype=object))"
      ]
     },
     "execution_count": 311,
     "metadata": {},
     "output_type": "execute_result"
    },
    {
     "data": {
      "image/png": "[encoded data removed]",
      "text/plain": [
       "<Figure size 640x480 with 2 Axes>"
      ]
     },
     "metadata": {},
     "output_type": "display_data"
    }
   ],
   "source": [
    "\"\"\"Recreate the empty canvas of 1 by 2 subplots\"\"\"\n",
    "\n",
    "# YOUR CODE HERE\n",
    "plt.subplots(nrows=1,ncols=2)\n",
    "# raise NotImplementedError()"
   ]
  },
  {
   "attachments": {
    "Screen%20Shot%202020-03-11%20at%204.00.26%20PM.png": {
     "image/png": "[encoded data removed]"
    }
   },
   "cell_type": "markdown",
   "metadata": {},
   "source": [
    "![Screen%20Shot%202020-03-11%20at%204.00.26%20PM.png](attachment:Screen%20Shot%202020-03-11%20at%204.00.26%20PM.png)"
   ]
  },
  {
   "cell_type": "code",
   "execution_count": 333,
   "metadata": {
    "deletable": false,
    "nbgrader": {
     "checksum": "f4c1c81fceddc022cfdda13fe750e9e5",
     "grade": false,
     "grade_id": "Recreate_2",
     "locked": false,
     "schema_version": 1,
     "solution": true
    }
   },
   "outputs": [
    {
     "data": {
      "text/plain": [
       "[<matplotlib.lines.Line2D at 0x141dc9c2d90>]"
      ]
     },
     "execution_count": 333,
     "metadata": {},
     "output_type": "execute_result"
    },
    {
     "data": {
      "image/png": "[encoded data removed]",
      "text/plain": [
       "<Figure size 640x480 with 2 Axes>"
      ]
     },
     "metadata": {},
     "output_type": "display_data"
    }
   ],
   "source": [
    "\"\"\"Recreate the modified plot below with (x,y) and (x,z) on the axes. Play around with the linewidth and style\"\"\"\n",
    "\n",
    "# YOUR CODE HERE\n",
    "fig,axs=plt.subplots(nrows=1,ncols=2)\n",
    "axs[0].plot(x,y, color='b', linestyle='dashed', linewidth='2')\n",
    "axs[1].plot(x,z, color='r', linewidth='2')\n",
    "# raise NotImplementedError()"
   ]
  },
  {
   "attachments": {
    "Screen%20Shot%202020-03-11%20at%204.02.15%20PM.png": {
     "image/png": "[encoded data removed]"
    }
   },
   "cell_type": "markdown",
   "metadata": {},
   "source": [
    "![Screen%20Shot%202020-03-11%20at%204.02.15%20PM.png](attachment:Screen%20Shot%202020-03-11%20at%204.02.15%20PM.png)"
   ]
  },
  {
   "cell_type": "code",
   "execution_count": 356,
   "metadata": {
    "deletable": false,
    "nbgrader": {
     "checksum": "c4d4c6c02a1e37f055fce85f639484a0",
     "grade": false,
     "grade_id": "Recreate_3",
     "locked": false,
     "schema_version": 1,
     "solution": true
    }
   },
   "outputs": [
    {
     "data": {
      "image/png": "[encoded data removed]",
      "text/plain": [
       "<Figure size 437x280 with 2 Axes>"
      ]
     },
     "metadata": {},
     "output_type": "display_data"
    }
   ],
   "source": [
    "\"\"\"Resize the plot by adding the figsize() argument in plt.subplots() via copying and pasting your previous code.\"\"\"\n",
    "\n",
    "# YOUR CODE HERE\n",
    "fig,axs=plt.subplots(nrows=1,ncols=2,figsize=(4.37,2.8))\n",
    "axs[0].plot(x,y, color='b', linestyle='dashed', linewidth='2')\n",
    "axs[1].plot(x,z, color='r', linewidth='2')\n",
    "axs[0].tick_params(axis='both', which='major', labelsize=7)\n",
    "axs[1].tick_params(axis='both', which='major', labelsize=7)\n",
    "# raise NotImplementedError()"
   ]
  },
  {
   "cell_type": "markdown",
   "metadata": {},
   "source": [
    "# Bibliography\n",
    "1. pieriandata.com/p/complete-python-bootcamp\n",
    "2. github.com/jmportilla"
   ]
  }
 ],
 "metadata": {
  "kernelspec": {
   "display_name": "Python 3 (ipykernel)",
   "language": "python",
   "name": "python3"
  },
  "language_info": {
   "codemirror_mode": {
    "name": "ipython",
    "version": 3
   },
   "file_extension": ".py",
   "mimetype": "text/x-python",
   "name": "python",
   "nbconvert_exporter": "python",
   "pygments_lexer": "ipython3",
   "version": "3.11.7"
  }
 },
 "nbformat": 4,
 "nbformat_minor": 4
}
